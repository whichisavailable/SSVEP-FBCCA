{
 "cells": [
  {
   "cell_type": "code",
   "execution_count": 1,
   "metadata": {},
   "outputs": [],
   "source": [
    "import numpy as np\n",
    "import torch\n",
    "from scipy import  signal\n",
    "from scipy.io import loadmat\n",
    "from sklearn.cross_decomposition import CCA"
   ]
  },
  {
   "cell_type": "code",
   "execution_count": 2,
   "metadata": {},
   "outputs": [],
   "source": [
    "import numpy as np\n",
    "import math\n",
    "from scipy import signal\n",
    "from sklearn.cross_decomposition import CCA\n",
    "\n",
    "\n",
    "class FBCCA:\n",
    "    def __init__(self):\n",
    "        super(FBCCA, self).__init__()\n",
    "        self.Nh = 22\n",
    "        self.Fs = 250\n",
    "        self.Nf = 20\n",
    "        self.ws = 4-0.14\n",
    "        self.Nc = 10\n",
    "        self.Nm = 8\n",
    "        self.T = int(self.Fs * self.ws)\n",
    "\n",
    "    def get_reference_signal(self, num_harmonics, targets):\n",
    "        reference_signals = []\n",
    "        t = np.arange(0, (self.T / self.Fs), step=1.0 / self.Fs)\n",
    "        for f in targets:\n",
    "            reference_f = []\n",
    "            for h in range(1, num_harmonics + 1):\n",
    "                reference_f.append(np.sin(2 * np.pi * h * f * t)[0:self.T])\n",
    "                reference_f.append(np.cos(2 * np.pi * h * f * t)[0:self.T])\n",
    "            reference_signals.append(reference_f)\n",
    "        reference_signals = np.asarray(reference_signals)\n",
    "        return reference_signals\n",
    "\n",
    "    def find_correlation(self, n_components, x, y):\n",
    "        cca = CCA(n_components)\n",
    "        corr = np.zeros(n_components)\n",
    "        num_freq = y.shape[0]\n",
    "        result = np.zeros(num_freq)\n",
    "        for freq_idx in range(0, num_freq):\n",
    "            matched_x = x\n",
    "            cca.fit(matched_x.T, y[freq_idx].T)\n",
    "            x_a, y_b = cca.transform(matched_x.T, y[freq_idx].T)\n",
    "            for i in range(0, n_components):\n",
    "                corr[i] = np.corrcoef(x_a[:, i], y_b[:, i])[0, 1]\n",
    "                result[freq_idx] = np.max(corr)\n",
    "        return result\n",
    "\n",
    "    def filter_bank(self, eeg):\n",
    "        result = np.zeros((eeg.shape[0], self.Nm, eeg.shape[-2], self.T))\n",
    "\n",
    "        nyq = self.Fs / 2\n",
    "\n",
    "        pass_band = [6, 14, 22, 30, 38, 46, 54, 62, 70, 78]\n",
    "        stop_band = [4, 10, 16, 24, 32, 40, 48, 56, 64, 72]\n",
    "        high_cut_pass, high_cut_stop = 90, 100\n",
    "\n",
    "        gpass, gstop, rp = 2, 40, 0.3\n",
    "\n",
    "        for i in range(self.Nm):\n",
    "            wp = np.array([pass_band[i] / nyq, high_cut_pass / nyq])\n",
    "            ws = np.array([stop_band[i] / nyq, high_cut_stop / nyq])\n",
    "            [n, wn] = signal.cheb1ord(wp, ws, gpass, gstop)\n",
    "            [b, a] = signal.cheby1(n, rp, wn, 'bandpass')\n",
    "            data = signal.filtfilt(b, a, eeg, padlen=3 * (max(len(b), len(a)) - 1)).copy()\n",
    "            result[:, i, :, :] = data\n",
    "\n",
    "        return result\n",
    "\n",
    "    def classify(self, targets, test_data, num_harmonics=3):\n",
    "        reference_signals = self.get_reference_signal(num_harmonics, targets)\n",
    "        test_data = self.filter_bank(test_data)\n",
    "\n",
    "        predicted_class = []\n",
    "        num_segments = test_data.shape[0]\n",
    "\n",
    "        fb_weight = [math.pow(i, -1.25) + 0.25 for i in range(1, self.Nm + 1)]\n",
    "        for segment in range(0, num_segments):\n",
    "            result = np.zeros(self.Nf)\n",
    "            for fb_i in range(0, self.Nm):\n",
    "                x = test_data[segment, fb_i]\n",
    "                y = reference_signals\n",
    "                w = fb_weight[fb_i]\n",
    "\n",
    "                result += (w * (self.find_correlation(3, x, y) ** 2))\n",
    "            predicted_class.append(np.argmax(result) + 1)\n",
    "        predicted_class = np.array(predicted_class)\n",
    "        return predicted_class\n"
   ]
  },
  {
   "cell_type": "code",
   "execution_count": 3,
   "metadata": {},
   "outputs": [],
   "source": [
    "samples = loadmat(f'S1B1.mat')\n",
    "data = samples['data1']\n",
    "label = data[10, :].copy()\n",
    "data = data[0:10, :]\n",
    "\n",
    "eeg_data = np.zeros((22, 10, 3860))\n",
    "indices = np.where(label == 1)\n",
    "indices = np.array(indices)\n",
    "for i in range(indices.size):\n",
    "    eeg_data[i] = data[:, indices[0, i]+140: indices[0, i] + 4000]\n",
    "eeg_data = signal.decimate(eeg_data, 4, axis=2).copy()\n",
    "eeg_data = torch.from_numpy(eeg_data)"
   ]
  },
  {
   "cell_type": "code",
   "execution_count": 4,
   "metadata": {},
   "outputs": [
    {
     "name": "stdout",
     "output_type": "stream",
     "text": [
      "[ 1 13 15 14 12 20 11 17 20 18  9  9  4 19 18  3 20 19 10 16 18 19]\n"
     ]
    }
   ],
   "source": [
    "fbcca = FBCCA()\n",
    "freqlist = np.linspace(8,13.7,20)\n",
    "result = fbcca.classify(freqlist, eeg_data)\n",
    "print(result)"
   ]
  },
  {
   "cell_type": "code",
   "execution_count": 5,
   "metadata": {},
   "outputs": [
    {
     "name": "stdout",
     "output_type": "stream",
     "text": [
      "[12 14 19  5  1 14  7 11 17 10 15  3 18  4  2 16 19 20 13 13  6 18]\n"
     ]
    }
   ],
   "source": [
    "samples = loadmat(f'S1B2.mat')\n",
    "data = samples['data1']\n",
    "label = data[10, :].copy()\n",
    "data = data[0:10, :]\n",
    "\n",
    "eeg_data = np.zeros((22, 10, 3860))\n",
    "indices = np.where(label == 1)\n",
    "indices = np.array(indices)\n",
    "for i in range(indices.size):\n",
    "    eeg_data[i] = data[:, indices[0, i]+140: indices[0, i] + 4000]\n",
    "eeg_data = signal.decimate(eeg_data, 4, axis=2).copy()\n",
    "eeg_data = torch.from_numpy(eeg_data)\n",
    "result = fbcca.classify(freqlist, eeg_data)\n",
    "print(result)"
   ]
  },
  {
   "cell_type": "code",
   "execution_count": 6,
   "metadata": {},
   "outputs": [
    {
     "name": "stdout",
     "output_type": "stream",
     "text": [
      "[10 13  4 11  3  9 17 16  5 12 19 14  2  8 15 18 20  7  6  1 16  9]\n"
     ]
    }
   ],
   "source": [
    "samples = loadmat(f'S2B1.mat')\n",
    "data = samples['data1']\n",
    "label = data[10, :].copy()\n",
    "data = data[0:10, :]\n",
    "\n",
    "eeg_data = np.zeros((22, 10, 3860))\n",
    "indices = np.where(label == 1)\n",
    "indices = np.array(indices)\n",
    "for i in range(indices.size):\n",
    "    eeg_data[i] = data[:, indices[0, i]+140: indices[0, i] + 4000]\n",
    "eeg_data = signal.decimate(eeg_data, 4, axis=2).copy()\n",
    "eeg_data = torch.from_numpy(eeg_data)\n",
    "result = fbcca.classify(freqlist, eeg_data)\n",
    "print(result)"
   ]
  },
  {
   "cell_type": "code",
   "execution_count": 7,
   "metadata": {},
   "outputs": [
    {
     "name": "stdout",
     "output_type": "stream",
     "text": [
      "[13 17  4 19  2  8 12 11 14 18  7  1  6 10  1 16  3 20  9  5 16  9]\n"
     ]
    }
   ],
   "source": [
    "samples = loadmat(f'S2B2.mat')\n",
    "data = samples['data1']\n",
    "label = data[10, :].copy()\n",
    "data = data[0:10, :]\n",
    "\n",
    "eeg_data = np.zeros((22, 10, 3860))\n",
    "indices = np.where(label == 1)\n",
    "indices = np.array(indices)\n",
    "for i in range(indices.size):\n",
    "    eeg_data[i] = data[:, indices[0, i]+140: indices[0, i] + 4000]\n",
    "eeg_data = signal.decimate(eeg_data, 4, axis=2).copy()\n",
    "eeg_data = torch.from_numpy(eeg_data)\n",
    "result = fbcca.classify(freqlist, eeg_data)\n",
    "print(result)"
   ]
  },
  {
   "cell_type": "code",
   "execution_count": 8,
   "metadata": {},
   "outputs": [
    {
     "name": "stdout",
     "output_type": "stream",
     "text": [
      "[17  9 19 11  7 20 12 14  2  1  2  4 18  3 16  8  2 10 13  5 12  4]\n"
     ]
    }
   ],
   "source": [
    "samples = loadmat(f'S3B1.mat')\n",
    "data = samples['data1']\n",
    "label = data[10, :].copy()\n",
    "data = data[0:10, :]\n",
    "\n",
    "eeg_data = np.zeros((22, 10, 3860))\n",
    "indices = np.where(label == 1)\n",
    "indices = np.array(indices)\n",
    "for i in range(indices.size):\n",
    "    eeg_data[i] = data[:, indices[0, i]+140: indices[0, i] + 4000]\n",
    "eeg_data = signal.decimate(eeg_data, 4, axis=2).copy()\n",
    "eeg_data = torch.from_numpy(eeg_data)\n",
    "result = fbcca.classify(freqlist, eeg_data)\n",
    "print(result)"
   ]
  },
  {
   "cell_type": "code",
   "execution_count": 9,
   "metadata": {},
   "outputs": [
    {
     "name": "stdout",
     "output_type": "stream",
     "text": [
      "[ 3 11  1  2  5  9 19  7  6 18  4  8 16 13 14  1 12 20 17 10  6  5]\n"
     ]
    }
   ],
   "source": [
    "samples = loadmat(f'S3B2.mat')\n",
    "data = samples['data1']\n",
    "label = data[10, :].copy()\n",
    "data = data[0:10, :]\n",
    "\n",
    "eeg_data = np.zeros((22, 10, 3860))\n",
    "indices = np.where(label == 1)\n",
    "indices = np.array(indices)\n",
    "for i in range(indices.size):\n",
    "    eeg_data[i] = data[:, indices[0, i]+140: indices[0, i] + 4000]\n",
    "eeg_data = signal.decimate(eeg_data, 4, axis=2).copy()\n",
    "eeg_data = torch.from_numpy(eeg_data)\n",
    "result = fbcca.classify(freqlist, eeg_data)\n",
    "print(result)"
   ]
  },
  {
   "cell_type": "code",
   "execution_count": 10,
   "metadata": {},
   "outputs": [
    {
     "name": "stdout",
     "output_type": "stream",
     "text": [
      "[16 12  2 19 14  8 18  3 15  4  5  9  3 13 20  7 11  1  6 10 14  6]\n"
     ]
    }
   ],
   "source": [
    "samples = loadmat(f'S4B1.mat')\n",
    "data = samples['data1']\n",
    "label = data[10, :].copy()\n",
    "data = data[0:10, :]\n",
    "\n",
    "eeg_data = np.zeros((22, 10, 3860))\n",
    "indices = np.where(label == 1)\n",
    "indices = np.array(indices)\n",
    "for i in range(indices.size):\n",
    "    eeg_data[i] = data[:, indices[0, i]+140: indices[0, i] + 4000]\n",
    "eeg_data = signal.decimate(eeg_data, 4, axis=2).copy()\n",
    "eeg_data = torch.from_numpy(eeg_data)\n",
    "result = fbcca.classify(freqlist, eeg_data)\n",
    "print(result)"
   ]
  },
  {
   "cell_type": "code",
   "execution_count": 11,
   "metadata": {},
   "outputs": [
    {
     "name": "stdout",
     "output_type": "stream",
     "text": [
      "[13 20 15  7  9  6  1  2  3 11 12 14 10 18 19  5 15 17  4  8  6 14]\n"
     ]
    }
   ],
   "source": [
    "samples = loadmat(f'S4B2.mat')\n",
    "data = samples['data1']\n",
    "label = data[10, :].copy()\n",
    "data = data[0:10, :]\n",
    "\n",
    "eeg_data = np.zeros((22, 10, 3860))\n",
    "indices = np.where(label == 1)\n",
    "indices = np.array(indices)\n",
    "for i in range(indices.size):\n",
    "    eeg_data[i] = data[:, indices[0, i]+140: indices[0, i] + 4000]\n",
    "eeg_data = signal.decimate(eeg_data, 4, axis=2).copy()\n",
    "eeg_data = torch.from_numpy(eeg_data)\n",
    "result = fbcca.classify(freqlist, eeg_data)\n",
    "print(result)"
   ]
  },
  {
   "cell_type": "code",
   "execution_count": 12,
   "metadata": {},
   "outputs": [
    {
     "name": "stderr",
     "output_type": "stream",
     "text": [
      "D:\\anaconda3\\lib\\site-packages\\sklearn\\cross_decomposition\\_pls.py:96: ConvergenceWarning: Maximum number of iterations reached\n",
      "  warnings.warn('Maximum number of iterations reached',\n"
     ]
    },
    {
     "name": "stdout",
     "output_type": "stream",
     "text": [
      "[10 12  7 18 16 17 13  1  9  4  8  5  3 20  2 14  3 11 15  4 20 14]\n"
     ]
    }
   ],
   "source": [
    "samples = loadmat(f'S5B1.mat')\n",
    "data = samples['data1']\n",
    "label = data[10, :].copy()\n",
    "data = data[0:10, :]\n",
    "\n",
    "eeg_data = np.zeros((22, 10, 3860))\n",
    "indices = np.where(label == 1)\n",
    "indices = np.array(indices)\n",
    "for i in range(indices.size):\n",
    "    eeg_data[i] = data[:, indices[0, i]+140: indices[0, i] + 4000]\n",
    "eeg_data = signal.decimate(eeg_data, 4, axis=2).copy()\n",
    "eeg_data = torch.from_numpy(eeg_data)\n",
    "result = fbcca.classify(freqlist, eeg_data)\n",
    "print(result)"
   ]
  },
  {
   "cell_type": "code",
   "execution_count": 13,
   "metadata": {},
   "outputs": [
    {
     "name": "stdout",
     "output_type": "stream",
     "text": [
      "[ 7 16  8  2  4 13  6 18  9 12 11 19  5  6 15 10 20 14 17  1  6  6]\n"
     ]
    }
   ],
   "source": [
    "samples = loadmat(f'S5B2.mat')\n",
    "data = samples['data1']\n",
    "label = data[10, :].copy()\n",
    "data = data[0:10, :]\n",
    "\n",
    "eeg_data = np.zeros((22, 10, 3860))\n",
    "indices = np.where(label == 1)\n",
    "indices = np.array(indices)\n",
    "for i in range(indices.size):\n",
    "    eeg_data[i] = data[:, indices[0, i]+140: indices[0, i] + 4000]\n",
    "eeg_data = signal.decimate(eeg_data, 4, axis=2).copy()\n",
    "eeg_data = torch.from_numpy(eeg_data)\n",
    "result = fbcca.classify(freqlist, eeg_data)\n",
    "print(result)"
   ]
  },
  {
   "cell_type": "code",
   "execution_count": null,
   "metadata": {},
   "outputs": [],
   "source": []
  },
  {
   "cell_type": "code",
   "execution_count": null,
   "metadata": {},
   "outputs": [],
   "source": []
  },
  {
   "cell_type": "code",
   "execution_count": null,
   "metadata": {},
   "outputs": [],
   "source": []
  }
 ],
 "metadata": {
  "kernelspec": {
   "display_name": "Python 3",
   "language": "python",
   "name": "python3"
  },
  "language_info": {
   "codemirror_mode": {
    "name": "ipython",
    "version": 3
   },
   "file_extension": ".py",
   "mimetype": "text/x-python",
   "name": "python",
   "nbconvert_exporter": "python",
   "pygments_lexer": "ipython3",
   "version": "3.8.5"
  }
 },
 "nbformat": 4,
 "nbformat_minor": 4
}
